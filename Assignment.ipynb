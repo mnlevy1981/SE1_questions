{
 "cells": [
  {
   "cell_type": "markdown",
   "metadata": {},
   "source": [
    "### Analyzing Some Ocean Model Output\n",
    "\n",
    "Below is a some code that uses the [Pangeo stack](https://pangeo.io/) to read in\n",
    "output from the ocean component of the CESM model. This run was done on a\n",
    "nominally 3-degree resolution grid with 11600 total cells. The output file\n",
    "contains monthly averages for two variables: sea surface temperature (`SST`) and\n",
    "air-sea CO2 flux (`FG_CO2`). The area of each grid cell is also included\n",
    "(`TAREA`).\n",
    "\n",
    "We use [xarray](http://xarray.pydata.org/en/stable/) to read in the data, but\n",
    "you don't need to know anything about that package. There are a few\n",
    "[numpy](https://numpy.org/) functions that will be useful, and we provide an\n",
    "example of them below.\n"
   ]
  },
  {
   "cell_type": "code",
   "execution_count": null,
   "metadata": {},
   "outputs": [],
   "source": [
    "import numpy as np\n",
    "import xarray as xr"
   ]
  },
  {
   "cell_type": "code",
   "execution_count": null,
   "metadata": {},
   "outputs": [],
   "source": [
    "ds = xr.open_dataset(\"SST_and_CO2FLUX.nc\")\n",
    "ds"
   ]
  },
  {
   "cell_type": "markdown",
   "metadata": {},
   "source": [
    "#### What does this data look like?\n",
    "\n",
    "`xarray` can plot data using `matplotlib`. For example, below is a plot of the\n",
    "January CO2 flux.\n"
   ]
  },
  {
   "cell_type": "code",
   "execution_count": null,
   "metadata": {},
   "outputs": [],
   "source": [
    "ds.isel(time=0)[\"FG_CO2\"].plot()"
   ]
  },
  {
   "cell_type": "markdown",
   "metadata": {},
   "source": [
    "Note that the white coloring for land is a `nan` value rather than a 0. The\n",
    "following cell uses some `numpy` functions to show that there are ~3700 land\n",
    "cells: `isnan` returns `True` where the array is `nan` rather than real-valued\n",
    "and `False` elsewhere; `where` creates an array that is 1s where the condition\n",
    "is true and 0 where it is false.\n"
   ]
  },
  {
   "cell_type": "code",
   "execution_count": null,
   "metadata": {},
   "outputs": [],
   "source": [
    "np.sum(np.where(np.isnan(ds.isel(time=0)[\"FG_CO2\"].values), 1, 0))"
   ]
  },
  {
   "cell_type": "markdown",
   "metadata": {},
   "source": [
    "The units of the `FG_CO2` variable, shown in the caption of the plot above, is `mmol/m^3 cm/s`:"
   ]
  },
  {
   "cell_type": "code",
   "execution_count": null,
   "metadata": {},
   "outputs": [],
   "source": [
    "ds[\"FG_CO2\"].attrs[\"units\"]"
   ]
  },
  {
   "cell_type": "markdown",
   "metadata": {},
   "source": [
    "That looks a little odd, but it's a concentration (`mmol/m^3`) times a velocity (`cm/s`).\n",
    "Note that this is moles per area (`cm / m^3` is 1 / area) per time.\n",
    "\n",
    "A common question to ask is \"how much carbon is entering (exiting) the ocean in a given year?\"\n",
    "To answer that, we need to integrate `FG_CO2` over the globe, resulting in units of moles per time.\n",
    "\n",
    "#### Unit Conversion\n",
    "\n",
    "There will be a few different conversion factors at play.\n",
    "First, we want to resolve `cm / m^3` into units that match the reciprocal of the units of the area of our cells:"
   ]
  },
  {
   "cell_type": "code",
   "execution_count": null,
   "metadata": {},
   "outputs": [],
   "source": [
    "ds[\"TAREA\"].attrs[\"units\"]"
   ]
  },
  {
   "cell_type": "markdown",
   "metadata": {},
   "source": [
    "We also want to convert our unit of time from `s` to `years` and `mmol` to `Pg C`.\n",
    "\n",
    "Below we have started to write a function to convert an array with units `mmol/m^3 cm/s` to `Pg / cm^2 / yr`.\n",
    "All that is missing is the conversion factor itself, please determine the proper value and update the function.\n",
    "\n",
    "Notes:\n",
    "\n",
    "1. A mole of carbon dioxide contains 12 grams of carbon\n",
    "1. A petagram is $10^{15}$ grams\n",
    "1. In our model, each year is exactly 365 days."
   ]
  },
  {
   "cell_type": "code",
   "execution_count": null,
   "metadata": {},
   "outputs": [],
   "source": [
    "def convert_concentration_units(da):\n",
    "    \"\"\"\n",
    "    Given a DataArray with units mmol/m^3 cm/s, convert the units to Pg / cm^2 / yr.\n",
    "\n",
    "    This function returns a DataArray with the updated units.\n",
    "    \"\"\"\n",
    "    # (1) Check the units of the argument in\n",
    "    #     i. If it is already \"Pg / cm^2 / yr\" return\n",
    "    units = da.attrs[\"units\"]\n",
    "    if  units == \"Pg / cm^2 / yr\":\n",
    "        return da\n",
    "    #     ii. If the units are not \"mmol/m^3 cm/s\", abort\n",
    "    if units != \"mmol/m^3 cm/s\":\n",
    "        raise ValueError(f\"Can not convert from '{units}'\")\n",
    "\n",
    "    # (2) Pull numpy array of values out of xarray DataArray, and create a new DataArray to return\n",
    "    old_values = da.values\n",
    "    da_out = da.copy()\n",
    "\n",
    "    # (3) Apply unit conversion\n",
    "    # TODO: compute the conversion factor\n",
    "    # conv_factor = \n",
    "    new_values = old_values * conv_factor\n",
    "    da_out.values = new_values\n",
    "    da_out.attrs[\"units\"] = \"Pg / cm^2 / yr\"\n",
    "\n",
    "    # (4) Return new array\n",
    "    return da_out\n"
   ]
  },
  {
   "cell_type": "code",
   "execution_count": null,
   "metadata": {},
   "outputs": [],
   "source": [
    "ds[\"FG_CO2\"] = convert_concentration_units(ds[\"FG_CO2\"])"
   ]
  },
  {
   "cell_type": "markdown",
   "metadata": {},
   "source": [
    "#### Computing a global integral\n",
    "\n",
    "Below we have started to write a function that approximates the global integral of a field by computing the Riemann sum (i.e. multiplying each cell value by its area and summing). The function loops over the each time dimension, but as you can see it returns `nan` instead of a reasonable value.\n",
    "\n",
    "We think it might have something to do with the land mask. Can you fix this function?"
   ]
  },
  {
   "cell_type": "code",
   "execution_count": null,
   "metadata": {},
   "outputs": [],
   "source": [
    "def compute_integral(da, area_da):\n",
    "    \"\"\"\n",
    "    Given a DataArray of values (da) and a DataArray of cell areas (area_da),\n",
    "    returns a DataArray with values sum(da * area_da).\n",
    "\n",
    "    Returns an xarray DataArray with a single dimension \"time\".\n",
    "    \"\"\"\n",
    "    # (1) Set up an array for the global integral of each time slice\n",
    "    #     and pull out numpy array of cell areas\n",
    "    global_integral = []\n",
    "    cell_areas = area_da.values\n",
    "\n",
    "    # (2) For each time slice, compute the global mean\n",
    "    for n in range(len(ds[\"time\"])):\n",
    "        # i. pull out numpy array containing correct month of data\n",
    "        data_to_avg = da.isel(time=n).values\n",
    "\n",
    "        # ii. integrate\n",
    "        integral = np.sum(data_to_avg * cell_areas)\n",
    "\n",
    "        # iii. error checking\n",
    "        if np.isnan(integral):\n",
    "            raise ValueError(\"The integral is nan!\")\n",
    "\n",
    "        # iv. append integral to list\n",
    "        global_integral.append(integral)\n",
    "\n",
    "    # (3) convert list to xarray DataArray and get units right\n",
    "    da_out = xr.DataArray(global_integral, dims=\"time\", coords={\"time\": ds[\"time\"]})\n",
    "    if da.attrs[\"units\"] == \"Pg / cm^2 / yr\" and area_da.attrs[\"units\"] == \"centimeter^2\":\n",
    "        da_out.attrs[\"units\"] = \"Pg / yr\"\n",
    "    else:\n",
    "        da_out.attrs[\"units\"] = f\"{da.attrs['units']} {area_da.attrs['units']}\"\n",
    "\n",
    "    # return DataArray\n",
    "    return da_out"
   ]
  },
  {
   "cell_type": "code",
   "execution_count": null,
   "metadata": {},
   "outputs": [],
   "source": [
    "compute_integral(ds[\"FG_CO2\"], ds[\"TAREA\"]).plot()"
   ]
  },
  {
   "cell_type": "markdown",
   "metadata": {},
   "source": [
    "#### Average SST\n",
    "\n",
    "If we plot the January SST values, we see that temperatures range from -2 C to a little over 32 C"
   ]
  },
  {
   "cell_type": "code",
   "execution_count": null,
   "metadata": {},
   "outputs": [],
   "source": [
    "print(f\"Min SST: {ds['SST'].min().values}\")\n",
    "print(f\"Max SST: {ds['SST'].max().values}\")\n",
    "ds[\"SST\"].isel(time=0).plot(vmin=-2, vmax=33)"
   ]
  },
  {
   "cell_type": "markdown",
   "metadata": {},
   "source": [
    "However, if we plot the integral of SST then we end up with large values and weird units:"
   ]
  },
  {
   "cell_type": "code",
   "execution_count": null,
   "metadata": {},
   "outputs": [],
   "source": [
    "compute_integral(ds[\"SST\"], ds[\"TAREA\"]).plot()"
   ]
  },
  {
   "cell_type": "markdown",
   "metadata": {},
   "source": [
    "What we actually want to compute is a weighted mean of the SST, or sum(SST * weights)/sum(weights).\n",
    "\n",
    "This is very similar to the compute_integral function, so I copied my code over.\n",
    "I still need help fixing the `nan` bug, but something else seems to be going wrong because I know the average SST from this run is around 18 degrees."
   ]
  },
  {
   "cell_type": "code",
   "execution_count": null,
   "metadata": {},
   "outputs": [],
   "source": [
    "def compute_weighted_mean(da, area_da):\n",
    "    \"\"\"\n",
    "    Given a DataArray of values (da) and a DataArray of cell areas (area_da),\n",
    "    returns a DataArray containing the weighted mean of da.\n",
    "\n",
    "    Returns an xarray DataArray with a single dimension \"time\".\n",
    "    \"\"\"\n",
    "    # (1) Set up an array for the global mean of each time slice\n",
    "    global_mean = []\n",
    "\n",
    "    # (2) For each time slice, compute the global mean\n",
    "    for n in range(len(ds[\"time\"])):\n",
    "        # i. pull out numpy array containing correct month of data\n",
    "        #    also compute the weights for the weighted mean\n",
    "        data_to_avg = da.isel(time=n).values\n",
    "        weights = area_da.values\n",
    "\n",
    "        # ii. compute mean\n",
    "        mean = np.sum(data_to_avg * weights) / np.sum(weights)\n",
    "\n",
    "        # iii. error checking\n",
    "        if np.isnan(mean):\n",
    "            raise ValueError(\"The mean is nan!\")\n",
    "\n",
    "        # iv. append mean to list\n",
    "        global_mean.append(mean)\n",
    "\n",
    "    # (3) convert list to xarray DataArray (note that units are unchanged from original)\n",
    "    da_out = xr.DataArray(global_mean, dims=\"time\", coords={\"time\": ds[\"time\"]})\n",
    "    da_out.attrs[\"units\"] = da.attrs['units']\n",
    "\n",
    "    # return DataArray\n",
    "    return da_out"
   ]
  },
  {
   "cell_type": "code",
   "execution_count": null,
   "metadata": {},
   "outputs": [],
   "source": [
    "compute_weighted_mean(ds[\"SST\"], ds[\"TAREA\"]).plot()"
   ]
  }
 ],
 "metadata": {
  "kernelspec": {
   "display_name": "Python [conda env:SE1_toy_problem]",
   "language": "python",
   "name": "conda-env-SE1_toy_problem-py"
  },
  "language_info": {
   "codemirror_mode": {
    "name": "ipython",
    "version": 3
   },
   "file_extension": ".py",
   "mimetype": "text/x-python",
   "name": "python",
   "nbconvert_exporter": "python",
   "pygments_lexer": "ipython3",
   "version": "3.8.6"
  }
 },
 "nbformat": 4,
 "nbformat_minor": 4
}
